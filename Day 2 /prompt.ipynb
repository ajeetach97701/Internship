{
 "cells": [
  {
   "cell_type": "code",
   "execution_count": 106,
   "metadata": {},
   "outputs": [],
   "source": [
    "import os\n",
    "from langchain import PromptTemplate\n",
    "from langchain.chains import LLMChain\n",
    "import google.generativeai as genai\n",
    "from dotenv import load_dotenv\n",
    "load_dotenv()\n",
    "google_api_key = os.getenv('GOOGLE_API_KEY')\n",
    "os.environ['GOOGLE_API_KEY'] = google_api_key\n",
    "# genai.configure(api_key=GOOGLE_API_KEY)\n",
    "\n",
    "demoTemplate = ''' I want you to act as a financial advisor for people.\n",
    "In an easy way explain the basics of {financial_concept}.'''\n",
    "prompt = PromptTemplate(input_variables= ['financial_concept'], template = demoTemplate)\n",
    "\n",
    "llm = genai.GenerativeModel('gemini-pro')\n",
    "# chain1 = LLMChain(llm  = llm, prompt = prompt)\n",
    "\n",
    "financial_concept = llm.generate_content('income_tax')\n",
    "print(financial_concept)"
   ]
  },
  {
   "cell_type": "code",
   "execution_count": 107,
   "metadata": {},
   "outputs": [],
   "source": [
    "demoTemplate = ''' I want you to act as a financial advisor for people.\n",
    "In an easy way explain the basics of {financial_concept}.'''\n",
    "prompt = PromptTemplate(input_variables= ['financial_concept'], template = demoTemplate)"
   ]
  },
  {
   "cell_type": "code",
   "execution_count": 108,
   "metadata": {},
   "outputs": [],
   "source": [
    "# prompt.format(financial_concept = 'income_tax')"
   ]
  },
  {
   "cell_type": "code",
   "execution_count": 109,
   "metadata": {},
   "outputs": [],
   "source": [
    "llm = genai.GenerativeModel('gemini-pro')\n",
    "# chain1 = LLMChain(llm  = llm, prompt = prompt)"
   ]
  },
  {
   "cell_type": "code",
   "execution_count": 111,
   "metadata": {},
   "outputs": [
    {
     "name": "stdout",
     "output_type": "stream",
     "text": [
      "response:\n",
      "GenerateContentResponse(\n",
      "    done=True,\n",
      "    iterator=None,\n",
      "    result=glm.GenerateContentResponse({'candidates': [{'content': {'parts': [{'text': \"**Income Tax**\\n\\nIncome tax is a levy imposed on an individual's or business's income. Governments use income tax to generate revenue to fund public services and infrastructure.\\n\\n**How Income Tax Works:**\\n\\n* Individuals and businesses are required to declare their income to the tax authority.\\n* The income may include salaries, wages, dividends, interest, and other sources.\\n* The tax authority applies a progressive tax rate system, where the tax rate increases as the income level increases.\\n* The tax owed is calculated by applying the tax rate to the taxable income, which is the income after deductions and exemptions.\\n\\n**Types of Income Tax:**\\n\\n* **Personal Income Tax:** Tax levied on the income of individuals.\\n* **Business Income Tax:** Tax levied on the income of businesses.\\n* **Corporate Income Tax:** Tax levied on the income of corporations.\\n\\n**Income Tax Rates:**\\n\\n* The income tax rates vary depending on the jurisdiction and the type of income.\\n* Some jurisdictions have progressive tax rates, while others have flat tax rates.\\n* The tax rates are also subject to adjustments over time based on economic conditions and government policies.\\n\\n**Deductions and Exemptions:**\\n\\n* Individuals and businesses are allowed to deduct certain expenses and claim exemptions to reduce their taxable income.\\n* Common deductions include mortgage interest, charitable contributions, and medical expenses.\\n* Exemptions are based on personal circumstances, such as age, dependents, and marital status.\\n\\n**Tax Filing:**\\n\\n* Individuals and businesses are responsible for filing tax returns annually or more frequently, depending on the jurisdiction.\\n* The tax returns provide details of the income earned, expenses incurred, and taxes owed or refunded.\\n\\n**Importance of Income Tax:**\\n\\n* **Revenue Generation:** Income tax is a major source of revenue for governments.\\n* **Income Redistribution:** Progressive tax rates can help redistribute income from higher-earning taxpayers to lower-earning taxpayers through government programs.\\n* **Economic Growth:** Some economists argue that moderate income tax rates can stimulate economic growth by encouraging investment and innovation.\\n\\n**Criticism of Income Tax:**\\n\\n* **Complexity:** The income tax system can be complex and difficult for individuals and businesses to navigate.\\n* **Disincentive to Work and Invest:** High income tax rates can discourage individuals from working more hours or investing in income-generating activities.\\n* **Tax Avoidance and Evasion:** Some individuals and businesses engage in tax avoidance or evasion schemes to reduce their tax liability.\"}], 'role': 'model'}, 'finish_reason': 1, 'index': 0, 'safety_ratings': [{'category': 9, 'probability': 1, 'blocked': False}, {'category': 8, 'probability': 1, 'blocked': False}, {'category': 7, 'probability': 1, 'blocked': False}, {'category': 10, 'probability': 1, 'blocked': False}], 'token_count': 0, 'grounding_attributions': []}], 'prompt_feedback': {'safety_ratings': [{'category': 9, 'probability': 1, 'blocked': False}, {'category': 8, 'probability': 1, 'blocked': False}, {'category': 7, 'probability': 1, 'blocked': False}, {'category': 10, 'probability': 1, 'blocked': False}], 'block_reason': 0}}),\n",
      ")\n"
     ]
    }
   ],
   "source": [
    "financial_concept = llm.generate_content('income_tax')\n",
    "print(financial_concept)"
   ]
  },
  {
   "cell_type": "code",
   "execution_count": null,
   "metadata": {},
   "outputs": [],
   "source": []
  },
  {
   "cell_type": "code",
   "execution_count": null,
   "metadata": {},
   "outputs": [],
   "source": []
  }
 ],
 "metadata": {
  "kernelspec": {
   "display_name": "tfEnv",
   "language": "python",
   "name": "python3"
  },
  "language_info": {
   "codemirror_mode": {
    "name": "ipython",
    "version": 3
   },
   "file_extension": ".py",
   "mimetype": "text/x-python",
   "name": "python",
   "nbconvert_exporter": "python",
   "pygments_lexer": "ipython3",
   "version": "3.11.5"
  }
 },
 "nbformat": 4,
 "nbformat_minor": 2
}
