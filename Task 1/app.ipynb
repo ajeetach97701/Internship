{
 "cells": [
  {
   "cell_type": "code",
   "execution_count": 6,
   "metadata": {},
   "outputs": [],
   "source": [
    "import streamlit as st\n",
    "import os\n",
    "from langchain_google_genai import ChatGoogleGenerativeAI\n",
    "from langchain.chains.question_answering import load_qa_chain\n",
    "import google.generativeai as genai\n",
    "from langchain.prompts import PromptTemplate\n",
    "from dotenv import load_dotenv\n",
    "import json\n",
    "import smtplib\n",
    "from email.mime.text import MIMEText\n",
    "from email.mime.multipart import MIMEMultipart\n",
    "import json\n",
    "import smtplib\n",
    "import email.message"
   ]
  },
  {
   "cell_type": "code",
   "execution_count": 2,
   "metadata": {},
   "outputs": [],
   "source": [
    "\n",
    "\n",
    "\n",
    "load_dotenv()\n",
    "os.getenv(\"GOOGLE_API_KEY\")\n",
    "genai.configure(api_key=os.getenv(\"GOOGLE_API_KEY\"))\n",
    "\n"
   ]
  },
  {
   "cell_type": "code",
   "execution_count": 3,
   "metadata": {},
   "outputs": [],
   "source": [
    "\n",
    "\n",
    "def ChatModel():\n",
    "    model = ChatGoogleGenerativeAI(model=\"gemini-pro\", temperature=0.5)\n",
    "    user_input = st.text_input(\"Type form to display the form.\")\n",
    "    \n",
    "    form = \"form\"\n",
    "    \n",
    "    if \"form\" in user_input:\n",
    "        Display_form()\n",
    "            "
   ]
  },
  {
   "cell_type": "code",
   "execution_count": 4,
   "metadata": {},
   "outputs": [],
   "source": [
    "\n",
    "            \n",
    "            \n",
    "def Display_form():\n",
    "    fields = [\"First Name\", \"Last Name\", \"Gender\", \"DOB\", \"Address\"]\n",
    "    index = st.session_state.get('index', 0)\n",
    "    data = st.session_state.get('data', {})\n",
    "\n",
    "    if index < len(fields):\n",
    "        field_to_collect = fields[index]\n",
    "        if field_to_collect == \"DOB\":\n",
    "            data[field_to_collect] = st.date_input(field_to_collect)\n",
    "        else:\n",
    "            data[field_to_collect] = st.text_input(field_to_collect)\n",
    "\n",
    "        if st.button(\"Next\"):\n",
    "            index += 1\n",
    "            st.session_state.index = index\n",
    "            if index < len(fields):\n",
    "                st.empty()\n",
    "        else:\n",
    "            st.session_state.data = data\n",
    "    else:\n",
    "        action = st.radio(\"What would you like to do?\", (\"Submit\", \"Cancel\", \"Restart\"))\n",
    "        if st.button(\"Submit\"):\n",
    "            if action == \"Submit\":\n",
    "                st.write(\"Data submitted successfully!\", st.session_state['data'])\n",
    "                json_data = st.session_state['data']\n",
    "                mail_data = mailer(json_data)\n",
    "                print(mail_data)\n",
    "            \n",
    "            elif action == \"Cancel\":\n",
    "                st.write(\"Data intake process canceled.\")\n",
    "            elif action == \"Restart\":\n",
    "                st.session_state.pop(\"index\", None)\n",
    "                st.session_state.pop(\"data\", None)\n",
    "                \n"
   ]
  },
  {
   "cell_type": "code",
   "execution_count": 5,
   "metadata": {},
   "outputs": [
    {
     "name": "stdout",
     "output_type": "stream",
     "text": [
      "Failed to send email. Error: (535, b'5.7.8 Username and Password not accepted. For more information, go to\\n5.7.8  https://support.google.com/mail/?p=BadCredentials gx23-20020a056a001e1700b006e4e93f4f17sm5812893pfb.117 - gsmtp')\n"
     ]
    }
   ],
   "source": [
    "                \n",
    "def mailer(data):\n",
    "    smtp_server = 'smtp.gmail.com'\n",
    "    smtp_port = 587\n",
    "    sender_email = 'ajeetach97701@example.com'\n",
    "    receiver_email = 'ajeetacharya02@gmail.com'\n",
    "    password = 'vayo ksaa obmj ehrv'  \n",
    "\n",
    "    message = MIMEMultipart()\n",
    "    message['From'] = sender_email\n",
    "    message['To'] = receiver_email\n",
    "    message['Subject'] = 'Test Email'   \n",
    "\n",
    "    body = 'This is a test email sent from Python.'\n",
    "    message.attach(MIMEText(body, 'plain')) \n",
    "\n",
    "    try:\n",
    "        server = smtplib.SMTP(smtp_server, smtp_port)\n",
    "        server.starttls()  \n",
    "        server.login(sender_email, password)\n",
    "        server.sendmail(sender_email, receiver_email, message.as_string())\n",
    "        print(\"Email sent successfully!\")\n",
    "    except Exception as e:\n",
    "        print(f\"Failed to send email. Error: {str(e)}\")\n",
    "    finally:\n",
    "        server.quit()   \n",
    "\n"
   ]
  },
  {
   "cell_type": "code",
   "execution_count": 7,
   "metadata": {},
   "outputs": [],
   "source": []
  },
  {
   "cell_type": "code",
   "execution_count": 8,
   "metadata": {},
   "outputs": [
    {
     "name": "stdout",
     "output_type": "stream",
     "text": [
      "Succesfully send\n"
     ]
    }
   ],
   "source": [
    "send_mail(\"Test\",\"TEst\")"
   ]
  },
  {
   "cell_type": "code",
   "execution_count": 10,
   "metadata": {},
   "outputs": [
    {
     "data": {
      "text/plain": [
       "'2.12.0'"
      ]
     },
     "execution_count": 10,
     "metadata": {},
     "output_type": "execute_result"
    }
   ],
   "source": [
    "import tensorflow as tf\n",
    "tf.__version__"
   ]
  },
  {
   "cell_type": "code",
   "execution_count": null,
   "metadata": {},
   "outputs": [],
   "source": []
  }
 ],
 "metadata": {
  "kernelspec": {
   "display_name": "tfEnv",
   "language": "python",
   "name": "python3"
  },
  "language_info": {
   "codemirror_mode": {
    "name": "ipython",
    "version": 3
   },
   "file_extension": ".py",
   "mimetype": "text/x-python",
   "name": "python",
   "nbconvert_exporter": "python",
   "pygments_lexer": "ipython3",
   "version": "3.11.5"
  }
 },
 "nbformat": 4,
 "nbformat_minor": 2
}
